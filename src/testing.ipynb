{
 "cells": [
  {
   "cell_type": "code",
   "execution_count": 27,
   "id": "08c54919-be00-418f-9e39-4d5f71de3f26",
   "metadata": {},
   "outputs": [],
   "source": [
    "import time\n",
    "import qrcode\n",
    "import cv2\n",
    "import psycopg2 as psy\n",
    "\n",
    "class event:\n",
    "    def __init__(self, data):\n",
    "        self.name = data.split('-')[1]\n",
    "        self.org = data.split('-')[0]\n",
    "    def print_id(self):\n",
    "        print('ID:', self.name, '-', 'ORG:', self.org)\n",
    "    def db_connect(self):    \n",
    "        with open('../password') as pwd:\n",
    "            self.pwd = pwd.readlines()[0].replace('\\n', '')\n",
    "        self.conn = psy.connect(dbname = 'coffee', user = 'coffeepi', password = self.pwd)\n",
    "        self.curs = self.conn.cursor()\n",
    "        print('Connection to database \"coffee\" established')\n",
    "    def db_add_coffee(self):\n",
    "        print('One coffee added to', self.name, '- Total count:', 50)"
   ]
  },
  {
   "cell_type": "code",
   "execution_count": 2,
   "id": "f2fa152b-71e3-4cdf-93ff-91e9cbb1d787",
   "metadata": {},
   "outputs": [],
   "source": [
    "detector = cv2.QRCodeDetector()\n",
    "img = cv2.imread('/home/squirry/Pictures/coffee/emilio.png', cv2.IMREAD_GRAYSCALE)\n",
    "data, bbox, _ = detector.detectAndDecode(img)"
   ]
  },
  {
   "cell_type": "code",
   "execution_count": 37,
   "id": "d62c17ee-59f9-4650-b422-c4f8dd1378c2",
   "metadata": {},
   "outputs": [
    {
     "ename": "AttributeError",
     "evalue": "'event' object has no attribute 'pwd'",
     "output_type": "error",
     "traceback": [
      "\u001b[0;31m---------------------------------------------------------------------------\u001b[0m",
      "\u001b[0;31mAttributeError\u001b[0m                            Traceback (most recent call last)",
      "\u001b[0;32m<ipython-input-37-3c62c99e495b>\u001b[0m in \u001b[0;36m<module>\u001b[0;34m\u001b[0m\n\u001b[1;32m      1\u001b[0m \u001b[0mev\u001b[0m \u001b[0;34m=\u001b[0m \u001b[0mevent\u001b[0m\u001b[0;34m(\u001b[0m\u001b[0mdata\u001b[0m\u001b[0;34m)\u001b[0m\u001b[0;34m\u001b[0m\u001b[0;34m\u001b[0m\u001b[0m\n\u001b[0;32m----> 2\u001b[0;31m \u001b[0mev\u001b[0m\u001b[0;34m.\u001b[0m\u001b[0mpwd\u001b[0m\u001b[0;34m\u001b[0m\u001b[0;34m\u001b[0m\u001b[0m\n\u001b[0m",
      "\u001b[0;31mAttributeError\u001b[0m: 'event' object has no attribute 'pwd'"
     ]
    }
   ],
   "source": [
    "ev = event(data)"
   ]
  },
  {
   "cell_type": "code",
   "execution_count": 23,
   "id": "24e01064-7d32-42b2-9c30-951edfcb31a8",
   "metadata": {},
   "outputs": [],
   "source": [
    "ev.db_connect()\n",
    "ev.curs.execute(\"INSERT INTO log (event, username) VALUES (now(), '{}');\".format(ev.name))\n",
    "ev.conn.commit()\n",
    "ev.conn.close()"
   ]
  },
  {
   "cell_type": "code",
   "execution_count": 57,
   "id": "43d098c1-5af1-4f4d-bdd8-dbb999274b59",
   "metadata": {},
   "outputs": [
    {
     "data": {
      "text/html": [
       "<div>\n",
       "<style scoped>\n",
       "    .dataframe tbody tr th:only-of-type {\n",
       "        vertical-align: middle;\n",
       "    }\n",
       "\n",
       "    .dataframe tbody tr th {\n",
       "        vertical-align: top;\n",
       "    }\n",
       "\n",
       "    .dataframe thead th {\n",
       "        text-align: right;\n",
       "    }\n",
       "</style>\n",
       "<table border=\"1\" class=\"dataframe\">\n",
       "  <thead>\n",
       "    <tr style=\"text-align: right;\">\n",
       "      <th></th>\n",
       "      <th>name</th>\n",
       "      <th>balance</th>\n",
       "    </tr>\n",
       "  </thead>\n",
       "  <tbody>\n",
       "    <tr>\n",
       "      <th>0</th>\n",
       "      <td>eb97ziwi</td>\n",
       "      <td>9.2</td>\n",
       "    </tr>\n",
       "    <tr>\n",
       "      <th>1</th>\n",
       "      <td>Asia Argento</td>\n",
       "      <td>-0.4</td>\n",
       "    </tr>\n",
       "  </tbody>\n",
       "</table>\n",
       "</div>"
      ],
      "text/plain": [
       "           name balance\n",
       "0      eb97ziwi     9.2\n",
       "1  Asia Argento    -0.4"
      ]
     },
     "execution_count": 57,
     "metadata": {},
     "output_type": "execute_result"
    }
   ],
   "source": [
    "import pandas as pd\n",
    "import psycopg2\n",
    "\n",
    "with open('../password') as pwd:\n",
    "    pwd = pwd.readlines()[0].replace('\\n', '')\n",
    "\n",
    "conn = psy.connect(dbname = 'coffee', user = 'coffeepi', password = pwd)\n",
    "curs = conn.cursor()\n",
    "curs.execute('''\n",
    "    SELECT *, balance - due AS total FROM (\n",
    "        SELECT username, count(*)*.4 AS due, balance FROM log \n",
    "            LEFT JOIN balance USING (username)\n",
    "        GROUP BY log.username, balance\n",
    "    ) AS foo;\n",
    "''')\n",
    "\n",
    "total = curs.fetchall()\n",
    "pd.DataFrame({'name': [total[i][0] for i in range(len(total))],\n",
    "              'balance': [-total[i][1] if total[i][3] is None else total[i][3] for i in range(len(total))]})"
   ]
  }
 ],
 "metadata": {
  "kernelspec": {
   "display_name": "Python 3",
   "language": "python",
   "name": "python3"
  },
  "language_info": {
   "codemirror_mode": {
    "name": "ipython",
    "version": 3
   },
   "file_extension": ".py",
   "mimetype": "text/x-python",
   "name": "python",
   "nbconvert_exporter": "python",
   "pygments_lexer": "ipython3",
   "version": "3.8.10"
  }
 },
 "nbformat": 4,
 "nbformat_minor": 5
}
